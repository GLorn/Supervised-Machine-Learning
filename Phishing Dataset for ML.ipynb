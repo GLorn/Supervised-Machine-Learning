{
 "cells": [
  {
   "cell_type": "code",
   "execution_count": 1,
   "metadata": {},
   "outputs": [],
   "source": [
    "import pandas as pd\n",
    "import numpy as np\n",
    "import os\n",
    "import seaborn as sns\n",
    "import matplotlib.pyplot as plt\n",
    "os.chdir(r'C:\\Users\\Connor\\Documents\\NOD\\BC#4\\Projects\\Supervised ML Project')\n",
    "\n",
    "from sklearn.model_selection import train_test_split, GridSearchCV\n",
    "from sklearn.linear_model import LogisticRegression\n",
    "from sklearn.tree import DecisionTreeClassifier\n",
    "from sklearn.ensemble import RandomForestClassifier\n",
    "from sklearn.svm import SVC\n",
    "from sklearn.neighbors import KNeighborsClassifier\n",
    "from sklearn.naive_bayes import GaussianNB\n",
    "from sklearn.gaussian_process import GaussianProcessClassifier\n",
    "from sklearn.dummy import DummyClassifier\n",
    "\n",
    "from sklearn.preprocessing import StandardScaler, MinMaxScaler, RobustScaler, OneHotEncoder\n",
    "from sklearn.pipeline import make_pipeline\n",
    "from sklearn.compose import make_column_transformer, make_column_selector\n",
    "from sklearn.metrics import confusion_matrix, ConfusionMatrixDisplay, recall_score, f1_score, accuracy_score, precision_score, make_scorer\n",
    "from sklearn.impute import SimpleImputer\n",
    "\n",
    "from joblib import dump"
   ]
  },
  {
   "cell_type": "markdown",
   "metadata": {},
   "source": [
    "# Supervised Machine Learning Project - Phishing Detection\n",
    "\n",
    "- Make an Anti-Phishing ML model\n",
    "- Aim is to be able to predict Phising Websites to minimise threats apposed by phishing such as:\n",
    "\n",
    "        - Fraud\n",
    "        - Identity Theft\n",
    "        - Exposing sensitive data eg. Credit Card Numbers, Bank information and Passwords"
   ]
  },
  {
   "cell_type": "markdown",
   "metadata": {},
   "source": [
    "### Data\n",
    "\n",
    "This dataset contains 48 features extracted from 5000 phishing webpages and 5000 legitimate webpages, which were downloaded from January to May 2015 and from May to June 2017. An improved feature extraction technique is employed by leveraging the browser automation framework (i.e., Selenium WebDriver), which is more precise and robust compared to the parsing approach based on regular expressions."
   ]
  },
  {
   "cell_type": "code",
   "execution_count": 2,
   "metadata": {},
   "outputs": [
    {
     "name": "stdout",
     "output_type": "stream",
     "text": [
      "(10000, 50)\n"
     ]
    },
    {
     "data": {
      "text/html": [
       "<div>\n",
       "<style scoped>\n",
       "    .dataframe tbody tr th:only-of-type {\n",
       "        vertical-align: middle;\n",
       "    }\n",
       "\n",
       "    .dataframe tbody tr th {\n",
       "        vertical-align: top;\n",
       "    }\n",
       "\n",
       "    .dataframe thead th {\n",
       "        text-align: right;\n",
       "    }\n",
       "</style>\n",
       "<table border=\"1\" class=\"dataframe\">\n",
       "  <thead>\n",
       "    <tr style=\"text-align: right;\">\n",
       "      <th></th>\n",
       "      <th>id</th>\n",
       "      <th>NumDots</th>\n",
       "      <th>SubdomainLevel</th>\n",
       "      <th>PathLevel</th>\n",
       "      <th>UrlLength</th>\n",
       "      <th>NumDash</th>\n",
       "      <th>NumDashInHostname</th>\n",
       "      <th>AtSymbol</th>\n",
       "      <th>TildeSymbol</th>\n",
       "      <th>NumUnderscore</th>\n",
       "      <th>...</th>\n",
       "      <th>IframeOrFrame</th>\n",
       "      <th>MissingTitle</th>\n",
       "      <th>ImagesOnlyInForm</th>\n",
       "      <th>SubdomainLevelRT</th>\n",
       "      <th>UrlLengthRT</th>\n",
       "      <th>PctExtResourceUrlsRT</th>\n",
       "      <th>AbnormalExtFormActionR</th>\n",
       "      <th>ExtMetaScriptLinkRT</th>\n",
       "      <th>PctExtNullSelfRedirectHyperlinksRT</th>\n",
       "      <th>CLASS_LABEL</th>\n",
       "    </tr>\n",
       "  </thead>\n",
       "  <tbody>\n",
       "    <tr>\n",
       "      <th>0</th>\n",
       "      <td>1</td>\n",
       "      <td>3</td>\n",
       "      <td>1</td>\n",
       "      <td>5</td>\n",
       "      <td>72</td>\n",
       "      <td>0</td>\n",
       "      <td>0</td>\n",
       "      <td>0</td>\n",
       "      <td>0</td>\n",
       "      <td>0</td>\n",
       "      <td>...</td>\n",
       "      <td>0</td>\n",
       "      <td>0</td>\n",
       "      <td>1</td>\n",
       "      <td>1</td>\n",
       "      <td>0</td>\n",
       "      <td>1</td>\n",
       "      <td>1</td>\n",
       "      <td>-1</td>\n",
       "      <td>1</td>\n",
       "      <td>1</td>\n",
       "    </tr>\n",
       "    <tr>\n",
       "      <th>1</th>\n",
       "      <td>2</td>\n",
       "      <td>3</td>\n",
       "      <td>1</td>\n",
       "      <td>3</td>\n",
       "      <td>144</td>\n",
       "      <td>0</td>\n",
       "      <td>0</td>\n",
       "      <td>0</td>\n",
       "      <td>0</td>\n",
       "      <td>2</td>\n",
       "      <td>...</td>\n",
       "      <td>0</td>\n",
       "      <td>0</td>\n",
       "      <td>0</td>\n",
       "      <td>1</td>\n",
       "      <td>-1</td>\n",
       "      <td>1</td>\n",
       "      <td>1</td>\n",
       "      <td>1</td>\n",
       "      <td>1</td>\n",
       "      <td>1</td>\n",
       "    </tr>\n",
       "    <tr>\n",
       "      <th>2</th>\n",
       "      <td>3</td>\n",
       "      <td>3</td>\n",
       "      <td>1</td>\n",
       "      <td>2</td>\n",
       "      <td>58</td>\n",
       "      <td>0</td>\n",
       "      <td>0</td>\n",
       "      <td>0</td>\n",
       "      <td>0</td>\n",
       "      <td>0</td>\n",
       "      <td>...</td>\n",
       "      <td>0</td>\n",
       "      <td>0</td>\n",
       "      <td>0</td>\n",
       "      <td>1</td>\n",
       "      <td>0</td>\n",
       "      <td>-1</td>\n",
       "      <td>1</td>\n",
       "      <td>-1</td>\n",
       "      <td>0</td>\n",
       "      <td>1</td>\n",
       "    </tr>\n",
       "    <tr>\n",
       "      <th>3</th>\n",
       "      <td>4</td>\n",
       "      <td>3</td>\n",
       "      <td>1</td>\n",
       "      <td>6</td>\n",
       "      <td>79</td>\n",
       "      <td>1</td>\n",
       "      <td>0</td>\n",
       "      <td>0</td>\n",
       "      <td>0</td>\n",
       "      <td>0</td>\n",
       "      <td>...</td>\n",
       "      <td>0</td>\n",
       "      <td>0</td>\n",
       "      <td>0</td>\n",
       "      <td>1</td>\n",
       "      <td>-1</td>\n",
       "      <td>1</td>\n",
       "      <td>1</td>\n",
       "      <td>1</td>\n",
       "      <td>-1</td>\n",
       "      <td>1</td>\n",
       "    </tr>\n",
       "    <tr>\n",
       "      <th>4</th>\n",
       "      <td>5</td>\n",
       "      <td>3</td>\n",
       "      <td>0</td>\n",
       "      <td>4</td>\n",
       "      <td>46</td>\n",
       "      <td>0</td>\n",
       "      <td>0</td>\n",
       "      <td>0</td>\n",
       "      <td>0</td>\n",
       "      <td>0</td>\n",
       "      <td>...</td>\n",
       "      <td>1</td>\n",
       "      <td>0</td>\n",
       "      <td>0</td>\n",
       "      <td>1</td>\n",
       "      <td>1</td>\n",
       "      <td>-1</td>\n",
       "      <td>0</td>\n",
       "      <td>-1</td>\n",
       "      <td>-1</td>\n",
       "      <td>1</td>\n",
       "    </tr>\n",
       "  </tbody>\n",
       "</table>\n",
       "<p>5 rows × 50 columns</p>\n",
       "</div>"
      ],
      "text/plain": [
       "   id  NumDots  SubdomainLevel  PathLevel  UrlLength  NumDash  \\\n",
       "0   1        3               1          5         72        0   \n",
       "1   2        3               1          3        144        0   \n",
       "2   3        3               1          2         58        0   \n",
       "3   4        3               1          6         79        1   \n",
       "4   5        3               0          4         46        0   \n",
       "\n",
       "   NumDashInHostname  AtSymbol  TildeSymbol  NumUnderscore  ...  \\\n",
       "0                  0         0            0              0  ...   \n",
       "1                  0         0            0              2  ...   \n",
       "2                  0         0            0              0  ...   \n",
       "3                  0         0            0              0  ...   \n",
       "4                  0         0            0              0  ...   \n",
       "\n",
       "   IframeOrFrame  MissingTitle  ImagesOnlyInForm  SubdomainLevelRT  \\\n",
       "0              0             0                 1                 1   \n",
       "1              0             0                 0                 1   \n",
       "2              0             0                 0                 1   \n",
       "3              0             0                 0                 1   \n",
       "4              1             0                 0                 1   \n",
       "\n",
       "   UrlLengthRT  PctExtResourceUrlsRT  AbnormalExtFormActionR  \\\n",
       "0            0                     1                       1   \n",
       "1           -1                     1                       1   \n",
       "2            0                    -1                       1   \n",
       "3           -1                     1                       1   \n",
       "4            1                    -1                       0   \n",
       "\n",
       "   ExtMetaScriptLinkRT  PctExtNullSelfRedirectHyperlinksRT  CLASS_LABEL  \n",
       "0                   -1                                   1            1  \n",
       "1                    1                                   1            1  \n",
       "2                   -1                                   0            1  \n",
       "3                    1                                  -1            1  \n",
       "4                   -1                                  -1            1  \n",
       "\n",
       "[5 rows x 50 columns]"
      ]
     },
     "execution_count": 2,
     "metadata": {},
     "output_type": "execute_result"
    }
   ],
   "source": [
    "df = pd.read_csv(\"Phishing_Legitimate_full.csv\")\n",
    "print(df.shape)\n",
    "df.head()"
   ]
  },
  {
   "cell_type": "markdown",
   "metadata": {},
   "source": [
    "#### Understanding the data\n",
    "\n",
    "- id: Website ID\n",
    "- NumDots: Num Dots on web link\n",
    "- SubdomainLevel: Number of subdomains before site name eg. *blogname*.mywebsite.com\n",
    "- PathLevel: Information after top level domain name eg. mywebite.com/*beans*\n",
    "- UrlLength: Characters in ULR\n",
    "- NumDash: Number of `-`\n",
    "- NumDashInHostname: Number of `-` in domain name\n",
    "- AtSymbol: Does URL contain `@`\n",
    "- TildeSymbol: Does URL contain `~`\n",
    "- NumUnderscore: Number of `_`\n",
    "- NumPercent: Number of `%`\n",
    "- NumQueryComponents: Number of Queries in URL eg. mywebsite.com/page *?name=beans&*\n",
    "- NumAmpersand: Number of `&`\n",
    "- NumHash: Number of `#`\n",
    "- NumNumericChars: Number of numerical characters\n",
    "- NoHttps: Does URL contain `https`\n",
    "- RandomString: Does URL contain a random string\n",
    "- IpAddress: Does URL contain an IpAddress\n",
    "- DomainInSubdomains: Is domain name within the subdomains\n",
    "- DomainInPaths: Is domain name within URL path\n",
    "- HttpsInHostname: Does hostname contain `https`\n",
    "- HostnameLength: Hostname characters\n",
    "- PathLength: Path characters\n",
    "- QueryLength: Query characters\n",
    "- DoubleSlashInPath: Does path contain `//`\n",
    "- NumSensitiveWords: Number of sensitive words eg. \"secure\", \"account\" & \"banking\"\n",
    "- EmbeddedBrandName: Is the URL hidden behind the brand name\n",
    "- PctExtHyperlinks: Percentage of hyperlinks to external pages in HTML code (another website)\n",
    "- PctExtResourceUrls: Percentage of URLs to external specific webpages in HTML code\n",
    "- ExtFavicon: Does webpage contail a Favicon (Icon in the corner of a tab)\n",
    "- InsecureForms: Does the website submit on `Https`\n",
    "- RelativeFormAction: Form-data is submitted within website eg. action=mywebsite.come/example.html\n",
    "- ExtFormAction: Form-data is submitted to an external website eg. action=example.html\n",
    "- AbnormalFormAction: Form-data is neither of the above?\n",
    "- PctNullSelfRedirectHyperlinks: Percentage of hyperlinks redirecting to itself\n",
    "- FrequentDomainNameMismatch: Does the SSL Certificate mismatch the name displayed in the URL\n",
    "- FakeLinkInStatusBar: Does a fake link appear in the status bar\n",
    "- RightClickDisabled: Is right click disabled on website\n",
    "- PopUpWindow: Is there a popup window\n",
    "- SubmitInfoToEmail: Does HTML code contain the HTML \"mailto\" function\n",
    "- IFrameOrFrame: HTML uses IFrame or Frame\n",
    "- MissingTitle: Is title missing\n",
    "- ImagesOnlyInForm: Images in form\n",
    "- SubdomainLevelRT: Counts percentage of subdomain levels\n",
    "- UrlLengthRT: Realtime?\n",
    "- PctExtResourceUrlsRT: Realtime?\n",
    "- AbnormalExtFormActionR: Realtime?\n",
    "- ExtMetaScriptLinkRT: Counts percentage of mata, script and link tags contailing external URL\n",
    "- PctExtNullSelfRedirectHyperlinksRT: Counts the percentage of hyperlinks in HTML source code that uses different domain names, starts with \"#\", or using \"JavaScript ::void(0)\"\n",
    "- CLASS_LABEL: **Target**"
   ]
  },
  {
   "cell_type": "code",
   "execution_count": 3,
   "metadata": {},
   "outputs": [
    {
     "name": "stdout",
     "output_type": "stream",
     "text": [
      "<class 'pandas.core.frame.DataFrame'>\n",
      "RangeIndex: 10000 entries, 0 to 9999\n",
      "Data columns (total 50 columns):\n",
      " #   Column                              Non-Null Count  Dtype  \n",
      "---  ------                              --------------  -----  \n",
      " 0   id                                  10000 non-null  int64  \n",
      " 1   NumDots                             10000 non-null  int64  \n",
      " 2   SubdomainLevel                      10000 non-null  int64  \n",
      " 3   PathLevel                           10000 non-null  int64  \n",
      " 4   UrlLength                           10000 non-null  int64  \n",
      " 5   NumDash                             10000 non-null  int64  \n",
      " 6   NumDashInHostname                   10000 non-null  int64  \n",
      " 7   AtSymbol                            10000 non-null  int64  \n",
      " 8   TildeSymbol                         10000 non-null  int64  \n",
      " 9   NumUnderscore                       10000 non-null  int64  \n",
      " 10  NumPercent                          10000 non-null  int64  \n",
      " 11  NumQueryComponents                  10000 non-null  int64  \n",
      " 12  NumAmpersand                        10000 non-null  int64  \n",
      " 13  NumHash                             10000 non-null  int64  \n",
      " 14  NumNumericChars                     10000 non-null  int64  \n",
      " 15  NoHttps                             10000 non-null  int64  \n",
      " 16  RandomString                        10000 non-null  int64  \n",
      " 17  IpAddress                           10000 non-null  int64  \n",
      " 18  DomainInSubdomains                  10000 non-null  int64  \n",
      " 19  DomainInPaths                       10000 non-null  int64  \n",
      " 20  HttpsInHostname                     10000 non-null  int64  \n",
      " 21  HostnameLength                      10000 non-null  int64  \n",
      " 22  PathLength                          10000 non-null  int64  \n",
      " 23  QueryLength                         10000 non-null  int64  \n",
      " 24  DoubleSlashInPath                   10000 non-null  int64  \n",
      " 25  NumSensitiveWords                   10000 non-null  int64  \n",
      " 26  EmbeddedBrandName                   10000 non-null  int64  \n",
      " 27  PctExtHyperlinks                    10000 non-null  float64\n",
      " 28  PctExtResourceUrls                  10000 non-null  float64\n",
      " 29  ExtFavicon                          10000 non-null  int64  \n",
      " 30  InsecureForms                       10000 non-null  int64  \n",
      " 31  RelativeFormAction                  10000 non-null  int64  \n",
      " 32  ExtFormAction                       10000 non-null  int64  \n",
      " 33  AbnormalFormAction                  10000 non-null  int64  \n",
      " 34  PctNullSelfRedirectHyperlinks       10000 non-null  float64\n",
      " 35  FrequentDomainNameMismatch          10000 non-null  int64  \n",
      " 36  FakeLinkInStatusBar                 10000 non-null  int64  \n",
      " 37  RightClickDisabled                  10000 non-null  int64  \n",
      " 38  PopUpWindow                         10000 non-null  int64  \n",
      " 39  SubmitInfoToEmail                   10000 non-null  int64  \n",
      " 40  IframeOrFrame                       10000 non-null  int64  \n",
      " 41  MissingTitle                        10000 non-null  int64  \n",
      " 42  ImagesOnlyInForm                    10000 non-null  int64  \n",
      " 43  SubdomainLevelRT                    10000 non-null  int64  \n",
      " 44  UrlLengthRT                         10000 non-null  int64  \n",
      " 45  PctExtResourceUrlsRT                10000 non-null  int64  \n",
      " 46  AbnormalExtFormActionR              10000 non-null  int64  \n",
      " 47  ExtMetaScriptLinkRT                 10000 non-null  int64  \n",
      " 48  PctExtNullSelfRedirectHyperlinksRT  10000 non-null  int64  \n",
      " 49  CLASS_LABEL                         10000 non-null  int64  \n",
      "dtypes: float64(3), int64(47)\n",
      "memory usage: 3.8 MB\n"
     ]
    }
   ],
   "source": [
    "# Check for missing data & Dtype overview\n",
    "\n",
    "df.info()\n",
    "\n",
    "# No missing Data\n",
    "# All numerical data: 3 - Float, 47 - Integer"
   ]
  },
  {
   "cell_type": "code",
   "execution_count": 4,
   "metadata": {},
   "outputs": [
    {
     "name": "stdout",
     "output_type": "stream",
     "text": [
      "id: 10000\n",
      "\n",
      "NumDots: 17\n",
      "\n",
      "SubdomainLevel: 13\n",
      "\n",
      "PathLevel: 18\n",
      "\n",
      "UrlLength: 226\n",
      "\n",
      "NumDash: 25\n",
      "\n",
      "NumDashInHostname: 10\n",
      "\n",
      "AtSymbol: 2\n",
      "\n",
      "TildeSymbol: 2\n",
      "\n",
      "NumUnderscore: 16\n",
      "\n",
      "NumPercent: 14\n",
      "\n",
      "NumQueryComponents: 19\n",
      "\n",
      "NumAmpersand: 16\n",
      "\n",
      "NumHash: 2\n",
      "\n",
      "NumNumericChars: 82\n",
      "\n",
      "NoHttps: 2\n",
      "\n",
      "RandomString: 2\n",
      "\n",
      "IpAddress: 2\n",
      "\n",
      "DomainInSubdomains: 2\n",
      "\n",
      "DomainInPaths: 2\n",
      "\n",
      "HttpsInHostname: 1\n",
      "\n",
      "HostnameLength: 74\n",
      "\n",
      "PathLength: 147\n",
      "\n",
      "QueryLength: 164\n",
      "\n",
      "DoubleSlashInPath: 2\n",
      "\n",
      "NumSensitiveWords: 4\n",
      "\n",
      "EmbeddedBrandName: 2\n",
      "\n",
      "PctExtHyperlinks: 2510\n",
      "\n",
      "PctExtResourceUrls: 1489\n",
      "\n",
      "ExtFavicon: 2\n",
      "\n",
      "InsecureForms: 2\n",
      "\n",
      "RelativeFormAction: 2\n",
      "\n",
      "ExtFormAction: 2\n",
      "\n",
      "AbnormalFormAction: 2\n",
      "\n",
      "PctNullSelfRedirectHyperlinks: 1311\n",
      "\n",
      "FrequentDomainNameMismatch: 2\n",
      "\n",
      "FakeLinkInStatusBar: 2\n",
      "\n",
      "RightClickDisabled: 2\n",
      "\n",
      "PopUpWindow: 2\n",
      "\n",
      "SubmitInfoToEmail: 2\n",
      "\n",
      "IframeOrFrame: 2\n",
      "\n",
      "MissingTitle: 2\n",
      "\n",
      "ImagesOnlyInForm: 2\n",
      "\n",
      "SubdomainLevelRT: 3\n",
      "\n",
      "UrlLengthRT: 3\n",
      "\n",
      "PctExtResourceUrlsRT: 3\n",
      "\n",
      "AbnormalExtFormActionR: 3\n",
      "\n",
      "ExtMetaScriptLinkRT: 3\n",
      "\n",
      "PctExtNullSelfRedirectHyperlinksRT: 3\n",
      "\n",
      "CLASS_LABEL: 2\n",
      "\n"
     ]
    }
   ],
   "source": [
    "for col in df.columns:\n",
    "    print(f\"{col}: {df[col].nunique()}\")\n",
    "    print()\n",
    "\n",
    "# Drop HttpsInHostname column as it only has 1 unique value.\n"
   ]
  },
  {
   "cell_type": "code",
   "execution_count": 5,
   "metadata": {},
   "outputs": [
    {
     "data": {
      "text/plain": [
       "id                                   -0.866025\n",
       "PctExtNullSelfRedirectHyperlinksRT   -0.540545\n",
       "NumDash                              -0.372235\n",
       "SubmitInfoToEmail                    -0.357635\n",
       "IframeOrFrame                        -0.235233\n",
       "NumQueryComponents                   -0.147391\n",
       "AbnormalFormAction                   -0.145073\n",
       "DomainInPaths                        -0.118201\n",
       "ExtFormAction                        -0.105164\n",
       "NumUnderscore                        -0.098869\n",
       "RandomString                         -0.085308\n",
       "RelativeFormAction                   -0.082589\n",
       "NumAmpersand                         -0.081446\n",
       "QueryLength                          -0.080525\n",
       "PathLength                           -0.076125\n",
       "SubdomainLevelRT                     -0.075799\n",
       "UrlLength                            -0.074493\n",
       "NoHttps                              -0.072219\n",
       "NumPercent                           -0.068465\n",
       "PopUpWindow                          -0.067308\n",
       "PctExtResourceUrls                   -0.021922\n",
       "AtSymbol                             -0.017323\n",
       "FakeLinkInStatusBar                  -0.014873\n",
       "ImagesOnlyInForm                     -0.001165\n",
       "NumNumericChars                       0.019122\n",
       "DoubleSlashInPath                     0.023344\n",
       "SubdomainLevel                        0.043132\n",
       "NumHash                               0.048014\n",
       "PctExtResourceUrlsRT                  0.052089\n",
       "ExtFavicon                            0.069140\n",
       "RightClickDisabled                    0.074900\n",
       "TildeSymbol                           0.095864\n",
       "DomainInSubdomains                    0.100452\n",
       "ExtMetaScriptLinkRT                   0.111150\n",
       "MissingTitle                          0.116693\n",
       "IpAddress                             0.132291\n",
       "EmbeddedBrandName                     0.141790\n",
       "NumDashInHostname                     0.150444\n",
       "HostnameLength                        0.169157\n",
       "UrlLengthRT                           0.169513\n",
       "AbnormalExtFormActionR                0.185799\n",
       "PathLevel                             0.229450\n",
       "NumSensitiveWords                     0.255208\n",
       "PctExtHyperlinks                      0.259728\n",
       "NumDots                               0.294111\n",
       "InsecureForms                         0.316380\n",
       "PctNullSelfRedirectHyperlinks         0.342806\n",
       "FrequentDomainNameMismatch            0.463956\n",
       "CLASS_LABEL                           1.000000\n",
       "HttpsInHostname                            NaN\n",
       "dtype: float64"
      ]
     },
     "execution_count": 5,
     "metadata": {},
     "output_type": "execute_result"
    }
   ],
   "source": [
    "df.corrwith(df[\"CLASS_LABEL\"]).sort_values() #\n",
    "\n",
    "# I will use the columns that have the highest correlation with our target. 5 highest Negative correlation and 5 highest Positive correlation\n",
    "\n",
    "# PctExtNullSelfRedirectHyperlinksRT, NumDash, SubmitInfoToEmail, IframeOrFrame, NumQueryComponents\n",
    "# FrequentDomainNameMismatch, PctNullSelfRedirectHyperlinks, PctExtHyperlinks, NumDots, InsecureForms"
   ]
  },
  {
   "cell_type": "code",
   "execution_count": 6,
   "metadata": {},
   "outputs": [],
   "source": [
    "#df = df[[   \"PctExtNullSelfRedirectHyperlinksRT\", \"NumDash\", \"SubmitInfoToEmail\", \"IframeOrFrame\", \"NumQueryComponents\",\n",
    "            #\"FrequentDomainNameMismatch\", \"PctNullSelfRedirectHyperlinks\", \"PctExtHyperlinks\", \"NumDots\", \"InsecureForms\",\n",
    "            #\"CLASS_LABEL\"]]"
   ]
  },
  {
   "cell_type": "code",
   "execution_count": 7,
   "metadata": {},
   "outputs": [
    {
     "data": {
      "text/html": [
       "<div>\n",
       "<style scoped>\n",
       "    .dataframe tbody tr th:only-of-type {\n",
       "        vertical-align: middle;\n",
       "    }\n",
       "\n",
       "    .dataframe tbody tr th {\n",
       "        vertical-align: top;\n",
       "    }\n",
       "\n",
       "    .dataframe thead th {\n",
       "        text-align: right;\n",
       "    }\n",
       "</style>\n",
       "<table border=\"1\" class=\"dataframe\">\n",
       "  <thead>\n",
       "    <tr style=\"text-align: right;\">\n",
       "      <th></th>\n",
       "      <th>id</th>\n",
       "      <th>NumDots</th>\n",
       "      <th>SubdomainLevel</th>\n",
       "      <th>PathLevel</th>\n",
       "      <th>UrlLength</th>\n",
       "      <th>NumDash</th>\n",
       "      <th>NumDashInHostname</th>\n",
       "      <th>AtSymbol</th>\n",
       "      <th>TildeSymbol</th>\n",
       "      <th>NumUnderscore</th>\n",
       "      <th>...</th>\n",
       "      <th>IframeOrFrame</th>\n",
       "      <th>MissingTitle</th>\n",
       "      <th>ImagesOnlyInForm</th>\n",
       "      <th>SubdomainLevelRT</th>\n",
       "      <th>UrlLengthRT</th>\n",
       "      <th>PctExtResourceUrlsRT</th>\n",
       "      <th>AbnormalExtFormActionR</th>\n",
       "      <th>ExtMetaScriptLinkRT</th>\n",
       "      <th>PctExtNullSelfRedirectHyperlinksRT</th>\n",
       "      <th>CLASS_LABEL</th>\n",
       "    </tr>\n",
       "  </thead>\n",
       "  <tbody>\n",
       "    <tr>\n",
       "      <th>0</th>\n",
       "      <td>1</td>\n",
       "      <td>3</td>\n",
       "      <td>1</td>\n",
       "      <td>5</td>\n",
       "      <td>72</td>\n",
       "      <td>0</td>\n",
       "      <td>0</td>\n",
       "      <td>0</td>\n",
       "      <td>0</td>\n",
       "      <td>0</td>\n",
       "      <td>...</td>\n",
       "      <td>0</td>\n",
       "      <td>0</td>\n",
       "      <td>1</td>\n",
       "      <td>1</td>\n",
       "      <td>0</td>\n",
       "      <td>1</td>\n",
       "      <td>1</td>\n",
       "      <td>-1</td>\n",
       "      <td>1</td>\n",
       "      <td>1</td>\n",
       "    </tr>\n",
       "    <tr>\n",
       "      <th>1</th>\n",
       "      <td>2</td>\n",
       "      <td>3</td>\n",
       "      <td>1</td>\n",
       "      <td>3</td>\n",
       "      <td>144</td>\n",
       "      <td>0</td>\n",
       "      <td>0</td>\n",
       "      <td>0</td>\n",
       "      <td>0</td>\n",
       "      <td>2</td>\n",
       "      <td>...</td>\n",
       "      <td>0</td>\n",
       "      <td>0</td>\n",
       "      <td>0</td>\n",
       "      <td>1</td>\n",
       "      <td>-1</td>\n",
       "      <td>1</td>\n",
       "      <td>1</td>\n",
       "      <td>1</td>\n",
       "      <td>1</td>\n",
       "      <td>1</td>\n",
       "    </tr>\n",
       "    <tr>\n",
       "      <th>2</th>\n",
       "      <td>3</td>\n",
       "      <td>3</td>\n",
       "      <td>1</td>\n",
       "      <td>2</td>\n",
       "      <td>58</td>\n",
       "      <td>0</td>\n",
       "      <td>0</td>\n",
       "      <td>0</td>\n",
       "      <td>0</td>\n",
       "      <td>0</td>\n",
       "      <td>...</td>\n",
       "      <td>0</td>\n",
       "      <td>0</td>\n",
       "      <td>0</td>\n",
       "      <td>1</td>\n",
       "      <td>0</td>\n",
       "      <td>-1</td>\n",
       "      <td>1</td>\n",
       "      <td>-1</td>\n",
       "      <td>0</td>\n",
       "      <td>1</td>\n",
       "    </tr>\n",
       "    <tr>\n",
       "      <th>3</th>\n",
       "      <td>4</td>\n",
       "      <td>3</td>\n",
       "      <td>1</td>\n",
       "      <td>6</td>\n",
       "      <td>79</td>\n",
       "      <td>1</td>\n",
       "      <td>0</td>\n",
       "      <td>0</td>\n",
       "      <td>0</td>\n",
       "      <td>0</td>\n",
       "      <td>...</td>\n",
       "      <td>0</td>\n",
       "      <td>0</td>\n",
       "      <td>0</td>\n",
       "      <td>1</td>\n",
       "      <td>-1</td>\n",
       "      <td>1</td>\n",
       "      <td>1</td>\n",
       "      <td>1</td>\n",
       "      <td>-1</td>\n",
       "      <td>1</td>\n",
       "    </tr>\n",
       "    <tr>\n",
       "      <th>4</th>\n",
       "      <td>5</td>\n",
       "      <td>3</td>\n",
       "      <td>0</td>\n",
       "      <td>4</td>\n",
       "      <td>46</td>\n",
       "      <td>0</td>\n",
       "      <td>0</td>\n",
       "      <td>0</td>\n",
       "      <td>0</td>\n",
       "      <td>0</td>\n",
       "      <td>...</td>\n",
       "      <td>1</td>\n",
       "      <td>0</td>\n",
       "      <td>0</td>\n",
       "      <td>1</td>\n",
       "      <td>1</td>\n",
       "      <td>-1</td>\n",
       "      <td>0</td>\n",
       "      <td>-1</td>\n",
       "      <td>-1</td>\n",
       "      <td>1</td>\n",
       "    </tr>\n",
       "  </tbody>\n",
       "</table>\n",
       "<p>5 rows × 50 columns</p>\n",
       "</div>"
      ],
      "text/plain": [
       "   id  NumDots  SubdomainLevel  PathLevel  UrlLength  NumDash  \\\n",
       "0   1        3               1          5         72        0   \n",
       "1   2        3               1          3        144        0   \n",
       "2   3        3               1          2         58        0   \n",
       "3   4        3               1          6         79        1   \n",
       "4   5        3               0          4         46        0   \n",
       "\n",
       "   NumDashInHostname  AtSymbol  TildeSymbol  NumUnderscore  ...  \\\n",
       "0                  0         0            0              0  ...   \n",
       "1                  0         0            0              2  ...   \n",
       "2                  0         0            0              0  ...   \n",
       "3                  0         0            0              0  ...   \n",
       "4                  0         0            0              0  ...   \n",
       "\n",
       "   IframeOrFrame  MissingTitle  ImagesOnlyInForm  SubdomainLevelRT  \\\n",
       "0              0             0                 1                 1   \n",
       "1              0             0                 0                 1   \n",
       "2              0             0                 0                 1   \n",
       "3              0             0                 0                 1   \n",
       "4              1             0                 0                 1   \n",
       "\n",
       "   UrlLengthRT  PctExtResourceUrlsRT  AbnormalExtFormActionR  \\\n",
       "0            0                     1                       1   \n",
       "1           -1                     1                       1   \n",
       "2            0                    -1                       1   \n",
       "3           -1                     1                       1   \n",
       "4            1                    -1                       0   \n",
       "\n",
       "   ExtMetaScriptLinkRT  PctExtNullSelfRedirectHyperlinksRT  CLASS_LABEL  \n",
       "0                   -1                                   1            1  \n",
       "1                    1                                   1            1  \n",
       "2                   -1                                   0            1  \n",
       "3                    1                                  -1            1  \n",
       "4                   -1                                  -1            1  \n",
       "\n",
       "[5 rows x 50 columns]"
      ]
     },
     "execution_count": 7,
     "metadata": {},
     "output_type": "execute_result"
    }
   ],
   "source": [
    "df.head()"
   ]
  },
  {
   "cell_type": "code",
   "execution_count": 8,
   "metadata": {},
   "outputs": [
    {
     "name": "stdout",
     "output_type": "stream",
     "text": [
      "id: 10000\n",
      "\n",
      "NumDots: 17\n",
      "\n",
      "SubdomainLevel: 13\n",
      "\n",
      "PathLevel: 18\n",
      "\n",
      "UrlLength: 226\n",
      "\n",
      "NumDash: 25\n",
      "\n",
      "NumDashInHostname: 10\n",
      "\n",
      "AtSymbol: 2\n",
      "\n",
      "TildeSymbol: 2\n",
      "\n",
      "NumUnderscore: 16\n",
      "\n",
      "NumPercent: 14\n",
      "\n",
      "NumQueryComponents: 19\n",
      "\n",
      "NumAmpersand: 16\n",
      "\n",
      "NumHash: 2\n",
      "\n",
      "NumNumericChars: 82\n",
      "\n",
      "NoHttps: 2\n",
      "\n",
      "RandomString: 2\n",
      "\n",
      "IpAddress: 2\n",
      "\n",
      "DomainInSubdomains: 2\n",
      "\n",
      "DomainInPaths: 2\n",
      "\n",
      "HttpsInHostname: 1\n",
      "\n",
      "HostnameLength: 74\n",
      "\n",
      "PathLength: 147\n",
      "\n",
      "QueryLength: 164\n",
      "\n",
      "DoubleSlashInPath: 2\n",
      "\n",
      "NumSensitiveWords: 4\n",
      "\n",
      "EmbeddedBrandName: 2\n",
      "\n",
      "PctExtHyperlinks: 2510\n",
      "\n",
      "PctExtResourceUrls: 1489\n",
      "\n",
      "ExtFavicon: 2\n",
      "\n",
      "InsecureForms: 2\n",
      "\n",
      "RelativeFormAction: 2\n",
      "\n",
      "ExtFormAction: 2\n",
      "\n",
      "AbnormalFormAction: 2\n",
      "\n",
      "PctNullSelfRedirectHyperlinks: 1311\n",
      "\n",
      "FrequentDomainNameMismatch: 2\n",
      "\n",
      "FakeLinkInStatusBar: 2\n",
      "\n",
      "RightClickDisabled: 2\n",
      "\n",
      "PopUpWindow: 2\n",
      "\n",
      "SubmitInfoToEmail: 2\n",
      "\n",
      "IframeOrFrame: 2\n",
      "\n",
      "MissingTitle: 2\n",
      "\n",
      "ImagesOnlyInForm: 2\n",
      "\n",
      "SubdomainLevelRT: 3\n",
      "\n",
      "UrlLengthRT: 3\n",
      "\n",
      "PctExtResourceUrlsRT: 3\n",
      "\n",
      "AbnormalExtFormActionR: 3\n",
      "\n",
      "ExtMetaScriptLinkRT: 3\n",
      "\n",
      "PctExtNullSelfRedirectHyperlinksRT: 3\n",
      "\n",
      "CLASS_LABEL: 2\n",
      "\n"
     ]
    }
   ],
   "source": [
    "for col in df.columns:\n",
    "    print(f\"{col}: {df[col].nunique()}\")\n",
    "    print()\n"
   ]
  },
  {
   "cell_type": "markdown",
   "metadata": {},
   "source": [
    "### X & y"
   ]
  },
  {
   "cell_type": "code",
   "execution_count": 9,
   "metadata": {},
   "outputs": [],
   "source": [
    "target = \"CLASS_LABEL\"\n",
    "cols_to_drop = [\"id\", \"SubdomainLevel\", \"PathLevel\", \"UrlLength\", 'NumDashInHostname', 'AtSymbol', 'TildeSymbol', 'NumUnderscore',\n",
    "                \"NumPercent\", 'NumAmpersand', 'NumHash', 'NumNumericChars', 'NoHttps', 'RandomString', 'IpAddress',\n",
    "                'DomainInSubdomains', 'DomainInPaths', 'HttpsInHostname', 'HostnameLength', 'PathLength', 'QueryLength', 'DoubleSlashInPath',\n",
    "                'NumSensitiveWords', 'EmbeddedBrandName', 'PctExtResourceUrls', 'ExtFavicon', 'RelativeFormAction', 'ExtFormAction', 'AbnormalFormAction',\n",
    "                'FakeLinkInStatusBar', 'RightClickDisabled', 'PopUpWindow', 'MissingTitle', 'ImagesOnlyInForm', 'SubdomainLevelRT', 'UrlLengthRT',\n",
    "                'PctExtResourceUrlsRT', 'AbnormalExtFormActionR', 'ExtMetaScriptLinkRT', \"CLASS_LABEL\"]\n",
    "\n",
    "X = df.drop(cols_to_drop, axis=1)\n",
    "y = df[target]"
   ]
  },
  {
   "attachments": {},
   "cell_type": "markdown",
   "metadata": {},
   "source": [
    "### Baseline\n",
    "\n",
    "Baseline for data 50%"
   ]
  },
  {
   "cell_type": "code",
   "execution_count": 14,
   "metadata": {},
   "outputs": [
    {
     "data": {
      "text/plain": [
       "1    0.5\n",
       "0    0.5\n",
       "Name: CLASS_LABEL, dtype: float64"
      ]
     },
     "execution_count": 14,
     "metadata": {},
     "output_type": "execute_result"
    }
   ],
   "source": [
    "y.value_counts(normalize=True)"
   ]
  },
  {
   "cell_type": "markdown",
   "metadata": {},
   "source": [
    "### Train Test Split"
   ]
  },
  {
   "cell_type": "code",
   "execution_count": 15,
   "metadata": {},
   "outputs": [],
   "source": [
    "X_train, X_test, y_train, y_test = train_test_split(X, y, test_size=0.3, random_state=42)"
   ]
  },
  {
   "cell_type": "markdown",
   "metadata": {},
   "source": [
    "#### Defining Scoring Metrics\n",
    "\n",
    "TP - Predicted phishing, truely are phishing\n",
    "FP - Predicted phishing, truely are NOT phishing\n",
    "TN - Predicted NOT phishing, truely are NOT phishing\n",
    "FN - Predicted NOT phishing, truely are phishing\n",
    "\n",
    "I feel FN are more damaging so we want to get this error margin as low as possible.\n",
    "\n",
    "We can sacrific precision with higher **recall** to minimise the phishing sites escaping detection"
   ]
  },
  {
   "cell_type": "markdown",
   "metadata": {},
   "source": [
    "### Preprocessing & GridSearchCV"
   ]
  },
  {
   "cell_type": "code",
   "execution_count": 16,
   "metadata": {},
   "outputs": [
    {
     "name": "stdout",
     "output_type": "stream",
     "text": [
      "Recall Score for LogisticRegression(): 0.8247366313840303\n",
      "\n",
      "Recall Score for DecisionTreeClassifier(): 0.9569772873241081\n",
      "\n",
      "Recall Score for RandomForestClassifier(): 0.9595726046593098\n",
      "\n",
      "Recall Score for SVC(): 0.9237665674081861\n",
      "\n",
      "Recall Score for KNeighborsClassifier(): 0.9422461610322882\n",
      "\n",
      "Recall Score for GaussianNB(): 0.6098758017833162\n",
      "\n"
     ]
    }
   ],
   "source": [
    "classifiers = [     LogisticRegression(),\n",
    "                    DecisionTreeClassifier(),\n",
    "                    RandomForestClassifier(),\n",
    "                    SVC(),\n",
    "                    KNeighborsClassifier(),\n",
    "                    GaussianNB()]\n",
    "\n",
    "num_cols = [\"PctExtNullSelfRedirectHyperlinksRT\", \"NumDash\", \"NumQueryComponents\", \"PctNullSelfRedirectHyperlinks\", \"PctExtHyperlinks\", \"NumDots\"]\n",
    "# Rest are already binary\n",
    "\n",
    "scaler = StandardScaler()\n",
    "\n",
    "for c in classifiers:\n",
    "\n",
    "    preprocessor = make_column_transformer((scaler, num_cols))\n",
    "\n",
    "    pipe = make_pipeline(preprocessor, c)\n",
    "    grid = GridSearchCV(    estimator=pipe,\n",
    "                                param_grid={},\n",
    "                                cv=5,\n",
    "                                scoring=\"recall\",\n",
    "                                n_jobs=-1)\n",
    "    grid.fit(X_train, y_train)\n",
    "\n",
    "    print(f\"Recall Score for {c}: {grid.best_score_}\\n\")\n"
   ]
  },
  {
   "cell_type": "markdown",
   "metadata": {},
   "source": [
    "### Hyperparameter Tuning\n",
    "- Chosen RandomForestClassifier"
   ]
  },
  {
   "cell_type": "code",
   "execution_count": 17,
   "metadata": {},
   "outputs": [
    {
     "name": "stdout",
     "output_type": "stream",
     "text": [
      "Best Score:  0.9624586075453129\n",
      "Best Params:  {'randomforestclassifier__max_features': None, 'randomforestclassifier__n_estimators': 200}\n"
     ]
    }
   ],
   "source": [
    "num_cols = [\"PctExtNullSelfRedirectHyperlinksRT\", \"NumDash\", \"NumQueryComponents\", \"PctNullSelfRedirectHyperlinks\", \"PctExtHyperlinks\", \"NumDots\"]\n",
    "# Rest are already binary\n",
    "\n",
    "param_grid_rf = {   \"randomforestclassifier__n_estimators\":[2, 4, 8, 16, 32, 64, 100, 200],\n",
    "                    \"randomforestclassifier__max_features\":[None, \"sqrt\", \"log2\", \"auto\"]}\n",
    "\n",
    "classifier = RandomForestClassifier()\n",
    "scaler = StandardScaler()\n",
    "\n",
    "preprocessor = make_column_transformer((scaler, num_cols))\n",
    "\n",
    "pipe = make_pipeline(preprocessor, classifier)\n",
    "\n",
    "grid_rf = GridSearchCV(     estimator=pipe,\n",
    "                            param_grid=param_grid_rf,\n",
    "                            cv=5,\n",
    "                            scoring=\"recall\",\n",
    "                            n_jobs=-1)\n",
    "\n",
    "grid_rf.fit(X_train, y_train)\n",
    "\n",
    "print(\"Best Score: \", grid_rf.best_score_)\n",
    "print(\"Best Params: \", grid_rf.best_params_)"
   ]
  },
  {
   "cell_type": "markdown",
   "metadata": {},
   "source": [
    "### Train Data"
   ]
  },
  {
   "cell_type": "code",
   "execution_count": 18,
   "metadata": {},
   "outputs": [
    {
     "data": {
      "text/plain": [
       "Pipeline(steps=[('columntransformer',\n",
       "                 ColumnTransformer(transformers=[('standardscaler',\n",
       "                                                  StandardScaler(),\n",
       "                                                  ['PctExtNullSelfRedirectHyperlinksRT',\n",
       "                                                   'NumDash',\n",
       "                                                   'NumQueryComponents',\n",
       "                                                   'PctNullSelfRedirectHyperlinks',\n",
       "                                                   'PctExtHyperlinks',\n",
       "                                                   'NumDots'])])),\n",
       "                ('randomforestclassifier',\n",
       "                 RandomForestClassifier(max_features=None, random_state=42))])"
      ]
     },
     "execution_count": 18,
     "metadata": {},
     "output_type": "execute_result"
    }
   ],
   "source": [
    "num_cols = [\"PctExtNullSelfRedirectHyperlinksRT\", \"NumDash\", \"NumQueryComponents\", \"PctNullSelfRedirectHyperlinks\", \"PctExtHyperlinks\", \"NumDots\"]\n",
    "# Rest are already binary\n",
    "\n",
    "classifier = RandomForestClassifier(random_state=42, max_features=None, n_estimators=100)\n",
    "scaler = StandardScaler()\n",
    "\n",
    "preprocessor = make_column_transformer((scaler, num_cols))\n",
    "\n",
    "pipe = make_pipeline(preprocessor, classifier)\n",
    "\n",
    "pipe.fit(X_train, y_train)\n"
   ]
  },
  {
   "cell_type": "code",
   "execution_count": 19,
   "metadata": {},
   "outputs": [
    {
     "data": {
      "image/png": "[encoded data removed]",
      "text/plain": [
       "<Figure size 432x288 with 2 Axes>"
      ]
     },
     "metadata": {
      "needs_background": "light"
     },
     "output_type": "display_data"
    },
    {
     "name": "stdout",
     "output_type": "stream",
     "text": [
      "0.9781428571428571\n"
     ]
    }
   ],
   "source": [
    "y_pred = pipe.predict(X_train)\n",
    "cm = confusion_matrix(y_train, y_pred, labels=pipe.classes_)\n",
    "disp = ConfusionMatrixDisplay(confusion_matrix=cm, display_labels=pipe.classes_)\n",
    "\n",
    "disp.plot()\n",
    "plt.show()\n",
    "\n",
    "print(pipe.score(X_train, y_train))"
   ]
  },
  {
   "cell_type": "code",
   "execution_count": 20,
   "metadata": {},
   "outputs": [],
   "source": [
    "#classifier = RandomForestClassifier(n_estimators=100, random_state=42, max_features=None)\n",
    "#0.9781428571428571\n",
    "\n",
    "# 35 FN"
   ]
  },
  {
   "cell_type": "markdown",
   "metadata": {},
   "source": [
    "### Baseline Test Data"
   ]
  },
  {
   "cell_type": "code",
   "execution_count": 21,
   "metadata": {},
   "outputs": [
    {
     "data": {
      "text/plain": [
       "0    0.505286\n",
       "1    0.494714\n",
       "Name: CLASS_LABEL, dtype: float64"
      ]
     },
     "execution_count": 21,
     "metadata": {},
     "output_type": "execute_result"
    }
   ],
   "source": [
    "y_train.value_counts(normalize=True)"
   ]
  },
  {
   "cell_type": "code",
   "execution_count": 22,
   "metadata": {},
   "outputs": [
    {
     "data": {
      "text/plain": [
       "DummyClassifier()"
      ]
     },
     "execution_count": 22,
     "metadata": {},
     "output_type": "execute_result"
    }
   ],
   "source": [
    "dummy = DummyClassifier()\n",
    "\n",
    "dummy.fit(X_train, y_train)"
   ]
  },
  {
   "cell_type": "code",
   "execution_count": 23,
   "metadata": {},
   "outputs": [],
   "source": [
    "y_true = y_test.copy()\n",
    "y_pred = dummy.predict(X_test)"
   ]
  },
  {
   "cell_type": "code",
   "execution_count": 24,
   "metadata": {},
   "outputs": [
    {
     "name": "stdout",
     "output_type": "stream",
     "text": [
      "The baseline to beat is 0.488\n"
     ]
    }
   ],
   "source": [
    "baseline = accuracy_score(y_true, y_pred)\n",
    "print(f\"The baseline to beat is {round(baseline, 3)}\")"
   ]
  },
  {
   "cell_type": "markdown",
   "metadata": {},
   "source": [
    "### Test Data"
   ]
  },
  {
   "cell_type": "code",
   "execution_count": 25,
   "metadata": {},
   "outputs": [
    {
     "name": "stdout",
     "output_type": "stream",
     "text": [
      "Test Score: 95.12\n",
      "Baseline: 48.77\n"
     ]
    }
   ],
   "source": [
    "y_pred = pipe.predict(X_test)\n",
    "\n",
    "test_score = recall_score(y_test, y_pred)\n",
    "print(f\"Test Score: {round(test_score*100, 2)}\")\n",
    "print(f\"Baseline: {round(baseline*100, 2)}\")"
   ]
  },
  {
   "cell_type": "code",
   "execution_count": 26,
   "metadata": {},
   "outputs": [
    {
     "data": {
      "image/png": "[encoded data removed]",
      "text/plain": [
       "<Figure size 432x288 with 2 Axes>"
      ]
     },
     "metadata": {
      "needs_background": "light"
     },
     "output_type": "display_data"
    }
   ],
   "source": [
    "cm = confusion_matrix(y_test, y_pred, labels=pipe.classes_)\n",
    "disp = ConfusionMatrixDisplay(confusion_matrix=cm, display_labels=pipe.classes_)\n",
    "\n",
    "disp.plot()\n",
    "plt.show()"
   ]
  },
  {
   "cell_type": "code",
   "execution_count": 27,
   "metadata": {},
   "outputs": [],
   "source": [
    "# 75 Phishing sites gone undetected"
   ]
  },
  {
   "cell_type": "code",
   "execution_count": 32,
   "metadata": {},
   "outputs": [
    {
     "data": {
      "text/plain": [
       "95.12036434612882"
      ]
     },
     "execution_count": 32,
     "metadata": {},
     "output_type": "execute_result"
    }
   ],
   "source": []
  },
  {
   "cell_type": "code",
   "execution_count": 35,
   "metadata": {},
   "outputs": [
    {
     "data": {
      "text/plain": [
       "Index(['NumDots', 'NumDash', 'NumQueryComponents', 'PctExtHyperlinks',\n",
       "       'InsecureForms', 'PctNullSelfRedirectHyperlinks',\n",
       "       'FrequentDomainNameMismatch', 'SubmitInfoToEmail', 'IframeOrFrame',\n",
       "       'PctExtNullSelfRedirectHyperlinksRT'],\n",
       "      dtype='object')"
      ]
     },
     "execution_count": 35,
     "metadata": {},
     "output_type": "execute_result"
    }
   ],
   "source": [
    "X.columns"
   ]
  },
  {
   "cell_type": "code",
   "execution_count": null,
   "metadata": {},
   "outputs": [],
   "source": []
  },
  {
   "cell_type": "code",
   "execution_count": null,
   "metadata": {},
   "outputs": [],
   "source": []
  },
  {
   "cell_type": "code",
   "execution_count": null,
   "metadata": {},
   "outputs": [],
   "source": []
  },
  {
   "cell_type": "code",
   "execution_count": null,
   "metadata": {},
   "outputs": [],
   "source": []
  }
 ],
 "metadata": {
  "kernelspec": {
   "display_name": "Python 3.9.12 ('base')",
   "language": "python",
   "name": "python3"
  },
  "language_info": {
   "codemirror_mode": {
    "name": "ipython",
    "version": 3
   },
   "file_extension": ".py",
   "mimetype": "text/x-python",
   "name": "python",
   "nbconvert_exporter": "python",
   "pygments_lexer": "ipython3",
   "version": "3.9.12 (main, Apr  4 2022, 05:22:27) [MSC v.1916 64 bit (AMD64)]"
  },
  "orig_nbformat": 4,
  "vscode": {
   "interpreter": {
    "hash": "014a02f94e2c68ea4a092127d1a11fa63cd97ff2228313e598e8d4857f9fab10"
   }
  }
 },
 "nbformat": 4,
 "nbformat_minor": 2
}
